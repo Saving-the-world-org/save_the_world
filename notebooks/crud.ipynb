{
 "cells": [
  {
   "cell_type": "code",
   "execution_count": 1,
   "metadata": {},
   "outputs": [],
   "source": [
    "# Import the required libraries and dependencies\n",
    "import pandas as pd\n",
    "from pathlib import Path\n",
    "from sqlalchemy import inspect, create_engine\n",
    "connection_string = 'sqlite:///./src/data/stw_data.db'\n",
    "engine = create_engine(connection_string)\n",
    "insp = inspect(engine)"
   ]
  },
  {
   "cell_type": "code",
   "execution_count": 3,
   "metadata": {},
   "outputs": [
    {
     "data": {
      "text/plain": [
       "Engine(sqlite:///)"
      ]
     },
     "execution_count": 3,
     "metadata": {},
     "output_type": "execute_result"
    }
   ],
   "source": [
    "\n",
    "# def init_data():\n",
    "#     cities_df = pd.read_csv(Path(\"./src/data/cities.csv\"))\n",
    "#     donations_df = pd.read_csv(Path(\"./src/data/donations_ho.csv\"))\n",
    "#     organizations_df = pd.read_csv(Path(\"./src/data/organizations_ho.csv\"))\n",
    "#     # recipients_df = pd.read_csv(Path(\"./src/data/recipients.csv\"))\n",
    "#     cities_df.to_sql('CITIES', engine, index=False, if_exists='replace')\n",
    "#     donations_df.to_sql('DONATIONS', engine, index=False, if_exists='replace')\n",
    "#     organizations_df.to_sql('ORGANIZATIONS', engine, index=False, if_exists='replace')\n",
    "#     # recipients_df.to_sql('RECIPIENTS', engine, index=False, if_exists='replace')\n",
    "\n",
    "# def get_data(query):\n",
    "#     df = pd.read_sql_query(query, con=engine)\n",
    "#     return df\n",
    "\n",
    "engine.table_names()"
   ]
  },
  {
   "cell_type": "code",
   "execution_count": 6,
   "metadata": {},
   "outputs": [],
   "source": [
    "# Write a SQL query to insert a new entry into the credit_score_info table. \n",
    "# The information for the new entry is as follows:\n",
    "# 'names': 'Martha Johnson'; 'cities': 'Lockport'; 'credit_score': 776; 'credit_score_provider';'TransUnion'\n",
    "\n",
    "insert_data=\"\"\"\n",
    "INSERT INTO credit_score_info('names', 'cities', 'credit_score', 'credit_score_provider') \n",
    "VALUES ('Martha Johnson', 'Lockport', 776, 'TransUnion')\n",
    "\"\"\""
   ]
  },
  {
   "cell_type": "code",
   "execution_count": 7,
   "metadata": {},
   "outputs": [
    {
     "data": {
      "text/html": [
       "<div>\n",
       "<style scoped>\n",
       "    .dataframe tbody tr th:only-of-type {\n",
       "        vertical-align: middle;\n",
       "    }\n",
       "\n",
       "    .dataframe tbody tr th {\n",
       "        vertical-align: top;\n",
       "    }\n",
       "\n",
       "    .dataframe thead th {\n",
       "        text-align: right;\n",
       "    }\n",
       "</style>\n",
       "<table border=\"1\" class=\"dataframe\">\n",
       "  <thead>\n",
       "    <tr style=\"text-align: right;\">\n",
       "      <th></th>\n",
       "      <th>names</th>\n",
       "      <th>cities</th>\n",
       "      <th>credit_score</th>\n",
       "      <th>credit_score_provider</th>\n",
       "    </tr>\n",
       "  </thead>\n",
       "  <tbody>\n",
       "    <tr>\n",
       "      <th>96</th>\n",
       "      <td>Stacy Johnson</td>\n",
       "      <td>Garzaton</td>\n",
       "      <td>596</td>\n",
       "      <td>Equifax</td>\n",
       "    </tr>\n",
       "    <tr>\n",
       "      <th>97</th>\n",
       "      <td>Amanda Baker</td>\n",
       "      <td>Vegatown</td>\n",
       "      <td>368</td>\n",
       "      <td>Equifax</td>\n",
       "    </tr>\n",
       "    <tr>\n",
       "      <th>98</th>\n",
       "      <td>Dawn Underwood</td>\n",
       "      <td>New Brianshire</td>\n",
       "      <td>830</td>\n",
       "      <td>Experian</td>\n",
       "    </tr>\n",
       "    <tr>\n",
       "      <th>99</th>\n",
       "      <td>Kelly Valenzuela</td>\n",
       "      <td>Castillochester</td>\n",
       "      <td>368</td>\n",
       "      <td>Experian</td>\n",
       "    </tr>\n",
       "    <tr>\n",
       "      <th>100</th>\n",
       "      <td>Martha Johnson</td>\n",
       "      <td>Lockport</td>\n",
       "      <td>776</td>\n",
       "      <td>TransUnion</td>\n",
       "    </tr>\n",
       "  </tbody>\n",
       "</table>\n",
       "</div>"
      ],
      "text/plain": [
       "                names           cities  credit_score credit_score_provider\n",
       "96      Stacy Johnson         Garzaton           596               Equifax\n",
       "97       Amanda Baker         Vegatown           368               Equifax\n",
       "98     Dawn Underwood   New Brianshire           830              Experian\n",
       "99   Kelly Valenzuela  Castillochester           368              Experian\n",
       "100    Martha Johnson         Lockport           776            TransUnion"
      ]
     },
     "metadata": {},
     "output_type": "display_data"
    }
   ],
   "source": [
    "# Call on the database engine to insert the new information into the table\n",
    "engine.execute(insert_data)\n",
    "\n",
    "# Read the adjusted database table into the sql_credit_score_info_df DataFrame\n",
    "sql_credit_score_info_df = pd.read_sql_table('credit_score_info', con=engine)\n",
    "\n",
    "# Confirm the table has been updated by reviewing the last five rows of the DataFrame \n",
    "display(sql_credit_score_info_df.tail())\n"
   ]
  },
  {
   "cell_type": "code",
   "execution_count": 8,
   "metadata": {},
   "outputs": [
    {
     "data": {
      "text/plain": [
       "[('Paul Hall', 'Bethshire', 794, 'Experian'),\n",
       " ('Shane Andersen', 'Brownview', 759, 'Experian'),\n",
       " ('Christy Wagner', 'Ritafort', 805, 'TransUnion'),\n",
       " ('Taylor Turner', 'Rachelfort', 759, 'Experian'),\n",
       " ('Cynthia Strong', 'Emilymouth', 770, 'TransUnion'),\n",
       " ('Rebecca Cook', 'North Lynnbury', 819, 'Equifax'),\n",
       " ('Felicia Vargas', 'New Carol', 768, 'Experian'),\n",
       " ('Morgan Bradshaw', 'Huynhfort', 792, 'Equifax'),\n",
       " ('Stacy Keller', 'Lauraborough', 791, 'Equifax'),\n",
       " ('Tracey Smith', 'Janetview', 815, 'TransUnion'),\n",
       " ('Tara Wright', 'Hatfieldville', 762, 'Equifax'),\n",
       " ('Jacob Pineda', 'North Victoriaside', 842, 'Experian'),\n",
       " ('Dawn Underwood', 'New Brianshire', 830, 'Experian'),\n",
       " ('Martha Johnson', 'Lockport', 776, 'TransUnion')]"
      ]
     },
     "execution_count": 8,
     "metadata": {},
     "output_type": "execute_result"
    }
   ],
   "source": [
    "# # Write the SQL query to review all columns in the credit_score_info table\n",
    "# # for the clients whose credit_score is greater than or equal to 750\n",
    "# query_750_plus=\"\"\"\n",
    "# SELECT *\n",
    "# FROM credit_score_info\n",
    "# WHERE credit_score >= 750\n",
    "# \"\"\"\n",
    "\n",
    "# # Call on the database engine to execute the query that generates the list\n",
    "# # of clients whose credit scores are greater than or equal to 750\n",
    "# results = engine.execute(query_750_plus)\n",
    "\n",
    "# # List of the results of the database query\n",
    "# list(results)"
   ]
  },
  {
   "cell_type": "code",
   "execution_count": 9,
   "metadata": {},
   "outputs": [
    {
     "data": {
      "text/plain": [
       "[('Paul Hall', 'Bethshire', 794, 'Experian'),\n",
       " ('Shane Andersen', 'Brownview', 759, 'Experian'),\n",
       " ('Christy Wagner', 'Ritafort', 805, 'TransUnion'),\n",
       " ('Taylor Turner', 'Rachelfort', 759, 'Experian'),\n",
       " ('Cynthia Strong', 'Emilymouth', 770, 'TransUnion'),\n",
       " ('Rebecca Cook', 'North Lynnbury', 819, 'Equifax'),\n",
       " ('Felicia Vargas', 'New Carol', 768, 'Experian'),\n",
       " ('Morgan Bradshaw', 'Huynhfort', 792, 'Equifax'),\n",
       " ('Stacy Keller', 'Lauraborough', 810, 'Equifax'),\n",
       " ('Tracey Smith', 'Janetview', 815, 'TransUnion'),\n",
       " ('Tara Wright', 'Hatfieldville', 762, 'Equifax'),\n",
       " ('Jacob Pineda', 'North Victoriaside', 842, 'Experian'),\n",
       " ('Dawn Underwood', 'New Brianshire', 830, 'Experian'),\n",
       " ('Martha Johnson', 'Lockport', 776, 'TransUnion')]"
      ]
     },
     "execution_count": 9,
     "metadata": {},
     "output_type": "execute_result"
    }
   ],
   "source": [
    "# Write the query to Update Stacy Keller's credit score to 810\n",
    "update_score = \"\"\"\n",
    "UPDATE credit_score_info\n",
    "SET credit_score = 810\n",
    "WHERE names = 'Stacy Keller'\n",
    "\"\"\"\n",
    "\n",
    "# Execute the update in the database\n",
    "engine.execute(update_score)\n",
    "\n",
    "# Rerun the query that generates the list of clients whose \n",
    "# credit scores are greater than or equal to 750 \n",
    "# to confirm that Stacy's score was updated appropriately\n",
    "results = engine.execute(query_750_plus)\n",
    "\n",
    "# List of the results of the database query\n",
    "list(results)"
   ]
  },
  {
   "cell_type": "code",
   "execution_count": 10,
   "metadata": {},
   "outputs": [
    {
     "data": {
      "text/plain": [
       "[('Paul Hall', 'Bethshire', 794, 'Experian'),\n",
       " ('Shane Andersen', 'Brownview', 759, 'Experian'),\n",
       " ('Christy Wagner', 'Ritafort', 805, 'TransUnion'),\n",
       " ('Cynthia Strong', 'Emilymouth', 770, 'TransUnion'),\n",
       " ('Rebecca Cook', 'North Lynnbury', 819, 'Equifax'),\n",
       " ('Felicia Vargas', 'New Carol', 768, 'Experian'),\n",
       " ('Morgan Bradshaw', 'Huynhfort', 792, 'Equifax'),\n",
       " ('Stacy Keller', 'Lauraborough', 810, 'Equifax'),\n",
       " ('Tracey Smith', 'Janetview', 815, 'TransUnion'),\n",
       " ('Tara Wright', 'Hatfieldville', 762, 'Equifax'),\n",
       " ('Jacob Pineda', 'North Victoriaside', 842, 'Experian'),\n",
       " ('Dawn Underwood', 'New Brianshire', 830, 'Experian'),\n",
       " ('Martha Johnson', 'Lockport', 776, 'TransUnion')]"
      ]
     },
     "execution_count": 10,
     "metadata": {},
     "output_type": "execute_result"
    }
   ],
   "source": [
    "# Write the query to remove Taylor Turner from the credit_score_info table\n",
    "delete_client = \"\"\"\n",
    "DELETE FROM credit_score_info\n",
    "WHERE names = 'Taylor Turner'\n",
    "\"\"\"\n",
    "\n",
    "# Execute the deletion of the client in the database\n",
    "engine.execute(delete_client)\n",
    "\n",
    "# Rerun the query that generates the list of clients whose \n",
    "# credit scores are greater than or equal to 750 \n",
    "# to confirm that Taylor was deleted from the list\n",
    "results = engine.execute(query_750_plus)\n",
    "\n",
    "# List of the results of the database query\n",
    "list(results)"
   ]
  },
  {
   "cell_type": "code",
   "execution_count": 11,
   "metadata": {},
   "outputs": [
    {
     "data": {
      "text/html": [
       "<div>\n",
       "<style scoped>\n",
       "    .dataframe tbody tr th:only-of-type {\n",
       "        vertical-align: middle;\n",
       "    }\n",
       "\n",
       "    .dataframe tbody tr th {\n",
       "        vertical-align: top;\n",
       "    }\n",
       "\n",
       "    .dataframe thead th {\n",
       "        text-align: right;\n",
       "    }\n",
       "</style>\n",
       "<table border=\"1\" class=\"dataframe\">\n",
       "  <thead>\n",
       "    <tr style=\"text-align: right;\">\n",
       "      <th></th>\n",
       "      <th>0</th>\n",
       "      <th>1</th>\n",
       "      <th>2</th>\n",
       "      <th>3</th>\n",
       "    </tr>\n",
       "  </thead>\n",
       "  <tbody>\n",
       "    <tr>\n",
       "      <th>0</th>\n",
       "      <td>Paul Hall</td>\n",
       "      <td>Bethshire</td>\n",
       "      <td>794</td>\n",
       "      <td>Experian</td>\n",
       "    </tr>\n",
       "    <tr>\n",
       "      <th>1</th>\n",
       "      <td>Christy Wagner</td>\n",
       "      <td>Ritafort</td>\n",
       "      <td>805</td>\n",
       "      <td>TransUnion</td>\n",
       "    </tr>\n",
       "    <tr>\n",
       "      <th>2</th>\n",
       "      <td>Rebecca Cook</td>\n",
       "      <td>North Lynnbury</td>\n",
       "      <td>819</td>\n",
       "      <td>Equifax</td>\n",
       "    </tr>\n",
       "    <tr>\n",
       "      <th>3</th>\n",
       "      <td>Morgan Bradshaw</td>\n",
       "      <td>Huynhfort</td>\n",
       "      <td>792</td>\n",
       "      <td>Equifax</td>\n",
       "    </tr>\n",
       "    <tr>\n",
       "      <th>4</th>\n",
       "      <td>Stacy Keller</td>\n",
       "      <td>Lauraborough</td>\n",
       "      <td>810</td>\n",
       "      <td>Equifax</td>\n",
       "    </tr>\n",
       "    <tr>\n",
       "      <th>5</th>\n",
       "      <td>Tracey Smith</td>\n",
       "      <td>Janetview</td>\n",
       "      <td>815</td>\n",
       "      <td>TransUnion</td>\n",
       "    </tr>\n",
       "    <tr>\n",
       "      <th>6</th>\n",
       "      <td>Jacob Pineda</td>\n",
       "      <td>North Victoriaside</td>\n",
       "      <td>842</td>\n",
       "      <td>Experian</td>\n",
       "    </tr>\n",
       "    <tr>\n",
       "      <th>7</th>\n",
       "      <td>Dawn Underwood</td>\n",
       "      <td>New Brianshire</td>\n",
       "      <td>830</td>\n",
       "      <td>Experian</td>\n",
       "    </tr>\n",
       "  </tbody>\n",
       "</table>\n",
       "</div>"
      ],
      "text/plain": [
       "                 0                   1    2           3\n",
       "0        Paul Hall           Bethshire  794    Experian\n",
       "1   Christy Wagner            Ritafort  805  TransUnion\n",
       "2     Rebecca Cook      North Lynnbury  819     Equifax\n",
       "3  Morgan Bradshaw           Huynhfort  792     Equifax\n",
       "4     Stacy Keller        Lauraborough  810     Equifax\n",
       "5     Tracey Smith           Janetview  815  TransUnion\n",
       "6     Jacob Pineda  North Victoriaside  842    Experian\n",
       "7   Dawn Underwood      New Brianshire  830    Experian"
      ]
     },
     "execution_count": 11,
     "metadata": {},
     "output_type": "execute_result"
    }
   ],
   "source": [
    "# Write the SQL query to review all columns in the credit_score_info table\n",
    "# for the clients whose credit_score is greater than or equal to 790\n",
    "query_790_plus=\"\"\"\n",
    "SELECT *\n",
    "FROM credit_score_info\n",
    "WHERE credit_score >= 790\n",
    "\"\"\"\n",
    "\n",
    "# Call on the database engine to execute the query that generates the list\n",
    "# of clients whose credit scores are greater than or equal to 790\n",
    "results = engine.execute(query_790_plus)\n",
    "\n",
    "# Create a DataFrame from the results list\n",
    "sql_credit_score_over_790_df = pd.DataFrame(results)\n",
    "\n",
    "# Review the DataFrame\n",
    "sql_credit_score_over_790_df"
   ]
  },
  {
   "cell_type": "code",
   "execution_count": 13,
   "metadata": {},
   "outputs": [
    {
     "name": "stderr",
     "output_type": "stream",
     "text": [
      "C:\\Users\\hoestreicher\\anaconda3\\envs\\dev\\lib\\site-packages\\ipykernel_launcher.py:13: SADeprecationWarning: The Engine.table_names() method is deprecated and will be removed in a future release.  Please refer to Inspector.get_table_names(). (deprecated since: 1.4)\n",
      "  del sys.path[0]\n"
     ]
    },
    {
     "data": {
      "text/plain": [
       "['credit_score_info', 'sql_credit_score_over_790']"
      ]
     },
     "execution_count": 13,
     "metadata": {},
     "output_type": "execute_result"
    }
   ],
   "source": [
    "# Write the sql_credit_score_over_790_df DataFrame to a new table in the database\n",
    "# Be sure include the parameters for the engine, the index and if_exists with the function\n",
    "# The new table should be called sql_credit_score_over_790\n",
    "sql_credit_score_over_790_df.to_sql(\n",
    "    'sql_credit_score_over_790', \n",
    "    engine, \n",
    "    index=False, \n",
    "    if_exists='replace'\n",
    ")\n",
    "\n",
    "# Confirm that the table was created by calling the table_names function on \n",
    "# the database engine\n",
    "engine.table_names()"
   ]
  },
  {
   "cell_type": "code",
   "execution_count": 14,
   "metadata": {},
   "outputs": [
    {
     "data": {
      "text/html": [
       "<div>\n",
       "<style scoped>\n",
       "    .dataframe tbody tr th:only-of-type {\n",
       "        vertical-align: middle;\n",
       "    }\n",
       "\n",
       "    .dataframe tbody tr th {\n",
       "        vertical-align: top;\n",
       "    }\n",
       "\n",
       "    .dataframe thead th {\n",
       "        text-align: right;\n",
       "    }\n",
       "</style>\n",
       "<table border=\"1\" class=\"dataframe\">\n",
       "  <thead>\n",
       "    <tr style=\"text-align: right;\">\n",
       "      <th></th>\n",
       "      <th>Name</th>\n",
       "      <th>City</th>\n",
       "      <th>Credit Score</th>\n",
       "      <th>Credit Score Provider</th>\n",
       "    </tr>\n",
       "  </thead>\n",
       "  <tbody>\n",
       "    <tr>\n",
       "      <th>0</th>\n",
       "      <td>Paul Hall</td>\n",
       "      <td>Bethshire</td>\n",
       "      <td>794</td>\n",
       "      <td>Experian</td>\n",
       "    </tr>\n",
       "    <tr>\n",
       "      <th>1</th>\n",
       "      <td>Christy Wagner</td>\n",
       "      <td>Ritafort</td>\n",
       "      <td>805</td>\n",
       "      <td>TransUnion</td>\n",
       "    </tr>\n",
       "    <tr>\n",
       "      <th>2</th>\n",
       "      <td>Rebecca Cook</td>\n",
       "      <td>North Lynnbury</td>\n",
       "      <td>819</td>\n",
       "      <td>Equifax</td>\n",
       "    </tr>\n",
       "    <tr>\n",
       "      <th>3</th>\n",
       "      <td>Morgan Bradshaw</td>\n",
       "      <td>Huynhfort</td>\n",
       "      <td>792</td>\n",
       "      <td>Equifax</td>\n",
       "    </tr>\n",
       "    <tr>\n",
       "      <th>4</th>\n",
       "      <td>Stacy Keller</td>\n",
       "      <td>Lauraborough</td>\n",
       "      <td>810</td>\n",
       "      <td>Equifax</td>\n",
       "    </tr>\n",
       "    <tr>\n",
       "      <th>5</th>\n",
       "      <td>Tracey Smith</td>\n",
       "      <td>Janetview</td>\n",
       "      <td>815</td>\n",
       "      <td>TransUnion</td>\n",
       "    </tr>\n",
       "    <tr>\n",
       "      <th>6</th>\n",
       "      <td>Jacob Pineda</td>\n",
       "      <td>North Victoriaside</td>\n",
       "      <td>842</td>\n",
       "      <td>Experian</td>\n",
       "    </tr>\n",
       "    <tr>\n",
       "      <th>7</th>\n",
       "      <td>Dawn Underwood</td>\n",
       "      <td>New Brianshire</td>\n",
       "      <td>830</td>\n",
       "      <td>Experian</td>\n",
       "    </tr>\n",
       "  </tbody>\n",
       "</table>\n",
       "</div>"
      ],
      "text/plain": [
       "              Name                City  Credit Score Credit Score Provider\n",
       "0        Paul Hall           Bethshire           794              Experian\n",
       "1   Christy Wagner            Ritafort           805            TransUnion\n",
       "2     Rebecca Cook      North Lynnbury           819               Equifax\n",
       "3  Morgan Bradshaw           Huynhfort           792               Equifax\n",
       "4     Stacy Keller        Lauraborough           810               Equifax\n",
       "5     Tracey Smith           Janetview           815            TransUnion\n",
       "6     Jacob Pineda  North Victoriaside           842              Experian\n",
       "7   Dawn Underwood      New Brianshire           830              Experian"
      ]
     },
     "execution_count": 14,
     "metadata": {},
     "output_type": "execute_result"
    }
   ],
   "source": [
    "# Read in the sql_credit_score_over_790 table from the database\n",
    "pd.read_sql_table('sql_credit_score_over_790', con=engine)\n"
   ]
  }
 ],
 "metadata": {
  "kernelspec": {
   "display_name": "dev",
   "language": "python",
   "name": "dev"
  },
  "language_info": {
   "codemirror_mode": {
    "name": "ipython",
    "version": 3
   },
   "file_extension": ".py",
   "mimetype": "text/x-python",
   "name": "python",
   "nbconvert_exporter": "python",
   "pygments_lexer": "ipython3",
   "version": "3.7.11"
  }
 },
 "nbformat": 4,
 "nbformat_minor": 4
}
